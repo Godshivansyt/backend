{
 "cells": [
  {
   "cell_type": "markdown",
   "id": "142c4cb5",
   "metadata": {},
   "source": [
    "# 1.Remove Duplicates From Sorted Array"
   ]
  },
  {
   "cell_type": "code",
   "execution_count": 3,
   "id": "aecc5aca",
   "metadata": {},
   "outputs": [
    {
     "name": "stdout",
     "output_type": "stream",
     "text": [
      "Number of unique elements: 5\n",
      "Modified array: [0, 1, 2, 3, 4]\n"
     ]
    }
   ],
   "source": [
    "from typing import List\n",
    "class Solution:\n",
    "    def removeDuplicates(self, nums: List[int]) -> int:\n",
    "        ext=[]\n",
    "        for i in nums:\n",
    "            if i not in ext:\n",
    "                ext.append(i)\n",
    "        for i in range(0,len(ext)):\n",
    "            nums[i]=ext[i]\n",
    "        return len(ext)\n",
    "\n",
    "if __name__ == \"__main__\":\n",
    "    nums = [0, 0, 1, 1, 2, 2, 3, 3, 4]\n",
    "    solution = Solution()\n",
    "    k = solution.removeDuplicates(nums)\n",
    "    print(f\"Number of unique elements: {k}\")\n",
    "    print(f\"Modified array: {nums[:k]}\")"
   ]
  },
  {
   "cell_type": "markdown",
   "id": "b5f68aeb",
   "metadata": {},
   "source": [
    "# 2.Remove the element from the Array"
   ]
  },
  {
   "cell_type": "code",
   "execution_count": 4,
   "id": "d2ba8075",
   "metadata": {},
   "outputs": [
    {
     "name": "stdout",
     "output_type": "stream",
     "text": [
      "Number of elements after removal: 5\n",
      "Modified array: [0, 1, 3, 0, 4]\n"
     ]
    }
   ],
   "source": [
    "from typing import List\n",
    "\n",
    "class Solution:\n",
    "    def removeElement(self, nums: List[int], val: int) -> int:\n",
    "        i = 0  # Initialize pointer to the start of the array\n",
    "        for j in range(len(nums)):  # Iterate over all elements in nums\n",
    "            if nums[j] != val:  # If the current element is not equal to val\n",
    "                nums[i] = nums[j]  # Place it at the current pointer's position\n",
    "                i += 1  # Move the pointer to the next position\n",
    "        \n",
    "        return i  # i is the count of elements that are not equal to val\n",
    "\n",
    "if __name__ == \"__main__\":\n",
    "    nums = [0, 1, 2, 2, 3, 0, 4, 2]\n",
    "    val = 2\n",
    "    solution = Solution()\n",
    "    k = solution.removeElement(nums, val)\n",
    "    print(f\"Number of elements after removal: {k}\")\n",
    "    print(f\"Modified array: {nums[:k]}\")\n",
    "\n",
    "#explaination of the code \n",
    "# Let's walk through the example where nums = [0,1,2,2,3,0,4,2] and val = 2:\n",
    "\n",
    "# Initialize i = 0.\n",
    "# Iterate over the array:\n",
    "# nums[0] = 0 (not 2), so place 0 at nums[0] and increment i to 1.\n",
    "# nums[1] = 1 (not 2), so place 1 at nums[1] and increment i to 2.\n",
    "# nums[2] = 2 (equals 2), so skip.\n",
    "# nums[3] = 2 (equals 2), so skip.\n",
    "# nums[4] = 3 (not 2), so place 3 at nums[2] and increment i to 3.\n",
    "# nums[5] = 0 (not 2), so place 0 at nums[3] and increment i to 4.\n",
    "# nums[6] = 4 (not 2), so place 4 at nums[4] and increment i to 5.\n",
    "# nums[7] = 2 (equals 2), so skip.\n",
    "# The array after modification will be [0, 1, 3, 0, 4, _, _, _], and the function returns i = 5."
   ]
  },
  {
   "cell_type": "code",
   "execution_count": null,
   "id": "96b54694",
   "metadata": {},
   "outputs": [],
   "source": []
  }
 ],
 "metadata": {
  "kernelspec": {
   "display_name": "Python 3 (ipykernel)",
   "language": "python",
   "name": "python3"
  },
  "language_info": {
   "codemirror_mode": {
    "name": "ipython",
    "version": 3
   },
   "file_extension": ".py",
   "mimetype": "text/x-python",
   "name": "python",
   "nbconvert_exporter": "python",
   "pygments_lexer": "ipython3",
   "version": "3.11.1"
  }
 },
 "nbformat": 4,
 "nbformat_minor": 5
}
