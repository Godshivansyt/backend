{
 "cells": [
  {
   "cell_type": "markdown",
   "id": "5c74f91a",
   "metadata": {},
   "source": [
    "# 1768. Merge Strings Alternately"
   ]
  },
  {
   "cell_type": "code",
   "execution_count": 1,
   "id": "88f10f01",
   "metadata": {},
   "outputs": [
    {
     "name": "stdout",
     "output_type": "stream",
     "text": [
      "apbqcr\n",
      "apbqrs\n",
      "apbqcd\n"
     ]
    }
   ],
   "source": [
    "class Solution:\n",
    "    def mergeAlternately(self, word1: str, word2: str) -> str:\n",
    "        # Initialize the result string\n",
    "        merged = []\n",
    "        \n",
    "        # Use zip to pair the characters from both strings and append them alternately\n",
    "        for c1, c2 in zip(word1, word2):\n",
    "            merged.append(c1)\n",
    "            merged.append(c2)\n",
    "        \n",
    "        # Append the remaining part of the longer string (if any)\n",
    "        merged.append(word1[len(word2):])\n",
    "        merged.append(word2[len(word1):])\n",
    "        \n",
    "        # Join the list into a string and return\n",
    "        return ''.join(merged)\n",
    "\n",
    "# Example usage\n",
    "if __name__ == \"__main__\":\n",
    "    solution = Solution()\n",
    "    print(solution.mergeAlternately(\"abc\", \"pqr\"))  # Output: \"apbqcr\"\n",
    "    print(solution.mergeAlternately(\"ab\", \"pqrs\"))  # Output: \"apbqrs\"\n",
    "    print(solution.mergeAlternately(\"abcd\", \"pq\"))  # Output: \"apbqcd\"\n"
   ]
  },
  {
   "cell_type": "code",
   "execution_count": null,
   "id": "9cb7750e",
   "metadata": {},
   "outputs": [],
   "source": []
  },
  {
   "cell_type": "code",
   "execution_count": 2,
   "id": "2566cda0",
   "metadata": {},
   "outputs": [
    {
     "name": "stdout",
     "output_type": "stream",
     "text": [
      "ABC\n",
      "AB\n",
      "\n"
     ]
    }
   ],
   "source": [
    "class Solution:\n",
    "    def gcdOfStrings(self, str1: str, str2: str) -> str:\n",
    "        # Check if str1 + str2 equals str2 + str1\n",
    "        if str1 + str2 != str2 + str1:\n",
    "            return \"\"\n",
    "        \n",
    "        # Function to compute the greatest common divisor (GCD) of two numbers\n",
    "        def gcd(a, b):\n",
    "            while b:\n",
    "                a, b = b, a % b\n",
    "            return a\n",
    "        \n",
    "        # Find the greatest common divisor of the lengths of the two strings\n",
    "        gcd_len = gcd(len(str1), len(str2))\n",
    "        \n",
    "        # Return the substring of str1 with length equal to the GCD\n",
    "        return str1[:gcd_len]\n",
    "\n",
    "# Example usage\n",
    "if __name__ == \"__main__\":\n",
    "    solution = Solution()\n",
    "    print(solution.gcdOfStrings(\"ABCABC\", \"ABC\"))  # Output: \"ABC\"\n",
    "    print(solution.gcdOfStrings(\"ABABAB\", \"ABAB\"))  # Output: \"AB\"\n",
    "    print(solution.gcdOfStrings(\"LEET\", \"CODE\"))    # Output: \"\"\n"
   ]
  },
  {
   "cell_type": "code",
   "execution_count": null,
   "id": "4cfa3d05",
   "metadata": {},
   "outputs": [],
   "source": []
  }
 ],
 "metadata": {
  "kernelspec": {
   "display_name": "Python 3 (ipykernel)",
   "language": "python",
   "name": "python3"
  },
  "language_info": {
   "codemirror_mode": {
    "name": "ipython",
    "version": 3
   },
   "file_extension": ".py",
   "mimetype": "text/x-python",
   "name": "python",
   "nbconvert_exporter": "python",
   "pygments_lexer": "ipython3",
   "version": "3.11.1"
  }
 },
 "nbformat": 4,
 "nbformat_minor": 5
}
