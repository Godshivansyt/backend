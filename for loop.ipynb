{
 "cells": [
  {
   "cell_type": "code",
   "execution_count": 28,
   "id": "b0c3fbb4",
   "metadata": {},
   "outputs": [
    {
     "name": "stdout",
     "output_type": "stream",
     "text": [
      "012340\n",
      "012341\n",
      "012342\n",
      "012343\n",
      "012344\n"
     ]
    }
   ],
   "source": [
    " \n",
    "for i in range(0,5):\n",
    "    for j in range(0,5):\n",
    "        print(j,end=\"\")\n",
    "    print(i)\n",
    "    \n",
    "    \n",
    "    #print(i)"
   ]
  },
  {
   "cell_type": "code",
   "execution_count": 29,
   "id": "011a15bc",
   "metadata": {},
   "outputs": [
    {
     "name": "stdout",
     "output_type": "stream",
     "text": [
      "Element at index 0 is 10\n",
      "Element at index 1 is 20\n",
      "Element at index 2 is 30\n",
      "Element at index 3 is 40\n",
      "Element at index 4 is 50\n"
     ]
    }
   ],
   "source": [
    "# Example 1D array\n",
    "arr = [10, 20, 30, 40, 50]\n",
    "\n",
    "# Iterating through the array using a for loop\n",
    "for i in range(len(arr)):\n",
    "    print(f\"Element at index {i} is {arr[i]}\")\n"
   ]
  },
  {
   "cell_type": "code",
   "execution_count": 6,
   "id": "abbd9572",
   "metadata": {},
   "outputs": [
    {
     "name": "stdout",
     "output_type": "stream",
     "text": [
      "@# 5@# 5@# 5@# 5@# 5\n",
      "\n",
      "@# 4@# 4@# 4@# 4\n",
      "\n",
      "@# 3@# 3@# 3\n",
      "\n",
      "@# 2@# 2\n",
      "\n",
      "@# 1\n",
      "\n"
     ]
    }
   ],
   "source": [
    "for i in range(5,0,-1):\n",
    "    for j in range(1,i+1):\n",
    "        print(\"@#\",i,end=\"\")\n",
    "    print(\"\\n\")    "
   ]
  },
  {
   "cell_type": "code",
   "execution_count": 7,
   "id": "3c6c8e0e",
   "metadata": {},
   "outputs": [
    {
     "name": "stdout",
     "output_type": "stream",
     "text": [
      "@# 1\n",
      "\n",
      "@# 2@# 2\n",
      "\n",
      "@# 3@# 3@# 3\n",
      "\n",
      "@# 4@# 4@# 4@# 4\n",
      "\n",
      "@# 5@# 5@# 5@# 5@# 5\n",
      "\n"
     ]
    }
   ],
   "source": [
    "for i in range(1,6):\n",
    "    for j in range(1,i+1):\n",
    "        print(\"@#\",i,end=\"\")\n",
    "    print(\"\\n\")   "
   ]
  },
  {
   "cell_type": "code",
   "execution_count": 10,
   "id": "9163e74f",
   "metadata": {},
   "outputs": [
    {
     "name": "stdout",
     "output_type": "stream",
     "text": [
      "    *\n",
      "\n",
      "   **\n",
      "\n",
      "  ***\n",
      "\n",
      " ****\n",
      "\n",
      "*****\n",
      "\n"
     ]
    }
   ],
   "source": [
    "for i in range(1,6):\n",
    "    for j in range(1,6-i):\n",
    "        print(\" \",end=\"\")\n",
    "    for k in range(1,i+1):\n",
    "        print(\"*\",end=\"\")\n",
    "    print(\"\\n\")    "
   ]
  },
  {
   "cell_type": "code",
   "execution_count": 15,
   "id": "9da3657c",
   "metadata": {},
   "outputs": [
    {
     "name": "stdout",
     "output_type": "stream",
     "text": [
      "55555\n",
      "\n",
      " 4444\n",
      "\n",
      "  333\n",
      "\n",
      "   22\n",
      "\n",
      "    1\n",
      "\n"
     ]
    }
   ],
   "source": [
    "for i in range(5,0,-1):\n",
    "    for k in range(1,6-i):\n",
    "        print(\" \",end=\"\")\n",
    "    for j in range(1,i+1):\n",
    "        print(i,end=\"\")\n",
    "    print(\"\\n\")    "
   ]
  },
  {
   "cell_type": "code",
   "execution_count": 2,
   "id": "403880ed",
   "metadata": {},
   "outputs": [
    {
     "ename": "SyntaxError",
     "evalue": "Missing parentheses in call to 'print'. Did you mean print(...)? (728304690.py, line 17)",
     "output_type": "error",
     "traceback": [
      "\u001b[1;36m  Cell \u001b[1;32mIn[2], line 17\u001b[1;36m\u001b[0m\n\u001b[1;33m    print B[i][j],\u001b[0m\n\u001b[1;37m    ^\u001b[0m\n\u001b[1;31mSyntaxError\u001b[0m\u001b[1;31m:\u001b[0m Missing parentheses in call to 'print'. Did you mean print(...)?\n"
     ]
    }
   ],
   "source": [
    "def performOps(A):\n",
    "    m = len(A)\n",
    "    n = len(A[0])\n",
    "    B = []\n",
    "    for i in xrange(len(A)):\n",
    "        B.append([0] * n)\n",
    "        for j in xrange(len(A[i])):\n",
    "            B[i][n - 1 - j] = A[i][j]\n",
    "    return B\n",
    "\n",
    "#Lets say performOps was called with A : [[1, 2, 3, 4], [5, 6, 7, 8], [9, 10, 11, 12]] .\n",
    "#What would be the output of the following call :\n",
    "\n",
    "B = performOps(A)\n",
    "for i in xrange(len(B)):\n",
    "    for j in xrange(len(B[i])):\n",
    "        print B[i][j],"
   ]
  },
  {
   "cell_type": "code",
   "execution_count": null,
   "id": "747f437c",
   "metadata": {},
   "outputs": [],
   "source": []
  }
 ],
 "metadata": {
  "kernelspec": {
   "display_name": "Python 3 (ipykernel)",
   "language": "python",
   "name": "python3"
  },
  "language_info": {
   "codemirror_mode": {
    "name": "ipython",
    "version": 3
   },
   "file_extension": ".py",
   "mimetype": "text/x-python",
   "name": "python",
   "nbconvert_exporter": "python",
   "pygments_lexer": "ipython3",
   "version": "3.11.1"
  }
 },
 "nbformat": 4,
 "nbformat_minor": 5
}
